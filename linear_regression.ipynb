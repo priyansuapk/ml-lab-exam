{
  "nbformat": 4,
  "nbformat_minor": 0,
  "metadata": {
    "colab": {
      "provenance": [],
      "authorship_tag": "ABX9TyM6+WjXiOg+QV/OtIHpHNW+",
      "include_colab_link": true
    },
    "kernelspec": {
      "name": "python3",
      "display_name": "Python 3"
    },
    "language_info": {
      "name": "python"
    }
  },
  "cells": [
    {
      "cell_type": "markdown",
      "metadata": {
        "id": "view-in-github",
        "colab_type": "text"
      },
      "source": [
        "<a href=\"https://colab.research.google.com/github/priyansuapk/ml-lab-exam/blob/main/linear_regression.ipynb\" target=\"_parent\"><img src=\"https://colab.research.google.com/assets/colab-badge.svg\" alt=\"Open In Colab\"/></a>"
      ]
    },
    {
      "cell_type": "code",
      "execution_count": 2,
      "metadata": {
        "colab": {
          "base_uri": "https://localhost:8080/"
        },
        "id": "AsitHBi78Dtv",
        "outputId": "63d7d483-3068-445a-bb06-19f3b749bde1"
      },
      "outputs": [
        {
          "output_type": "stream",
          "name": "stdout",
          "text": [
            "Mean Absolute Error (MAE): 0.5332001304929304\n",
            "Mean Squared Error (MSE): 0.5558915986959396\n",
            "R-squared (R²): 0.5757877060319202\n",
            "Adjusted R-squared: 0.5749637928608242\n"
          ]
        }
      ],
      "source": [
        "import numpy as np\n",
        "import pandas as pd\n",
        "from sklearn.datasets import fetch_california_housing\n",
        "from sklearn.model_selection import train_test_split\n",
        "\n",
        "# Load dataset (Boston Housing dataset)\n",
        "data = fetch_california_housing()\n",
        "X = data.data\n",
        "y = data.target\n",
        "\n",
        "# Add a column of ones to X for the intercept term (bias)\n",
        "X = np.c_[np.ones(X.shape[0]), X]\n",
        "\n",
        "# Train-Test Split\n",
        "X_train, X_test, y_train, y_test = train_test_split(X, y, test_size=0.2, random_state=42)\n",
        "\n",
        "# Linear Regression from scratch (Normal Equation)\n",
        "class LinearRegressionScratch:\n",
        "    def __init__(self):\n",
        "        self.coef_ = None\n",
        "\n",
        "    def fit(self, X, y):\n",
        "        # Normal Equation to find the optimal coefficients\n",
        "        self.coef_ = np.linalg.inv(X.T @ X) @ X.T @ y\n",
        "\n",
        "    def predict(self, X):\n",
        "        return X @ self.coef_\n",
        "\n",
        "# Train the model\n",
        "model = LinearRegressionScratch()\n",
        "model.fit(X_train, y_train)\n",
        "\n",
        "# Make predictions\n",
        "y_pred = model.predict(X_test)\n",
        "\n",
        "# Evaluation Metrics\n",
        "\n",
        "# Mean Absolute Error (MAE)\n",
        "MAE = np.mean(np.abs(y_test - y_pred))\n",
        "\n",
        "# Mean Squared Error (MSE)\n",
        "MSE = np.mean((y_test - y_pred) ** 2)\n",
        "\n",
        "# R-squared (R²)\n",
        "ss_total = np.sum((y_test - np.mean(y_test)) ** 2)\n",
        "ss_residual = np.sum((y_test - y_pred) ** 2)\n",
        "R2 = 1 - (ss_residual / ss_total)\n",
        "\n",
        "# Adjusted R-squared\n",
        "n = X_test.shape[0]  # number of test samples\n",
        "p = X_test.shape[1] - 1  # number of features (excluding intercept)\n",
        "adj_R2 = 1 - (1 - R2) * (n - 1) / (n - p - 1)\n",
        "\n",
        "# Print the results\n",
        "print(f\"Mean Absolute Error (MAE): {MAE}\")\n",
        "print(f\"Mean Squared Error (MSE): {MSE}\")\n",
        "print(f\"R-squared (R²): {R2}\")\n",
        "print(f\"Adjusted R-squared: {adj_R2}\")\n"
      ]
    },
    {
      "cell_type": "code",
      "source": [],
      "metadata": {
        "id": "Hd9sB44R8MbP"
      },
      "execution_count": null,
      "outputs": []
    }
  ]
}