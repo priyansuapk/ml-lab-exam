{
  "nbformat": 4,
  "nbformat_minor": 0,
  "metadata": {
    "colab": {
      "provenance": [],
      "authorship_tag": "ABX9TyNXvTTl8Ni0GJb1isjXVdW+",
      "include_colab_link": true
    },
    "kernelspec": {
      "name": "python3",
      "display_name": "Python 3"
    },
    "language_info": {
      "name": "python"
    }
  },
  "cells": [
    {
      "cell_type": "markdown",
      "metadata": {
        "id": "view-in-github",
        "colab_type": "text"
      },
      "source": [
        "<a href=\"https://colab.research.google.com/github/priyansuapk/ml-lab-exam/blob/main/logistic_regression.ipynb\" target=\"_parent\"><img src=\"https://colab.research.google.com/assets/colab-badge.svg\" alt=\"Open In Colab\"/></a>"
      ]
    },
    {
      "cell_type": "code",
      "execution_count": 1,
      "metadata": {
        "colab": {
          "base_uri": "https://localhost:8080/"
        },
        "id": "mM5MtUSa0BkJ",
        "outputId": "db2e3b85-31c1-44fc-8893-a6714e5eeb88"
      },
      "outputs": [
        {
          "output_type": "stream",
          "name": "stdout",
          "text": [
            "Logistic Regression from Scratch - Average Accuracy: 0.9771\n",
            "Scikit-learn Logistic Regression - Average Accuracy: 0.9771\n"
          ]
        }
      ],
      "source": [
        "import numpy as np\n",
        "from sklearn.datasets import load_breast_cancer\n",
        "from sklearn.model_selection import KFold\n",
        "from sklearn.metrics import accuracy_score\n",
        "from sklearn.linear_model import LogisticRegression\n",
        "from sklearn.preprocessing import StandardScaler\n",
        "\n",
        "# Load Breast Cancer dataset\n",
        "data = load_breast_cancer()\n",
        "X, y = data.data, data.target\n",
        "\n",
        "# Normalize the dataset\n",
        "scaler = StandardScaler()\n",
        "X_scaled = scaler.fit_transform(X)\n",
        "\n",
        "# Logistic Regression from Scratch\n",
        "class LogisticRegressionScratch:\n",
        "    def __init__(self, lr=0.01, n_iter=1000):\n",
        "        self.lr = lr\n",
        "        self.n_iter = n_iter\n",
        "\n",
        "    def sigmoid(self, z):\n",
        "        return 1 / (1 + np.exp(-z))\n",
        "\n",
        "    def fit(self, X, y):\n",
        "        self.weights = np.zeros(X.shape[1])\n",
        "        self.bias = 0\n",
        "\n",
        "        for _ in range(self.n_iter):\n",
        "            model = self.sigmoid(np.dot(X, self.weights) + self.bias)\n",
        "            dw = np.dot(X.T, (model - y)) / len(y)\n",
        "            db = np.sum(model - y) / len(y)\n",
        "\n",
        "            self.weights -= self.lr * dw\n",
        "            self.bias -= self.lr * db\n",
        "\n",
        "    def predict(self, X):\n",
        "        linear_model = np.dot(X, self.weights) + self.bias\n",
        "        return (self.sigmoid(linear_model) >= 0.5).astype(int)\n",
        "\n",
        "# Perform 5-Fold Cross-Validation\n",
        "kf = KFold(n_splits=5, shuffle=True, random_state=42)\n",
        "scratch_accuracies = []\n",
        "builtin_accuracies = []\n",
        "\n",
        "for train_index, test_index in kf.split(X_scaled):\n",
        "    X_train, X_test = X_scaled[train_index], X_scaled[test_index]\n",
        "    y_train, y_test = y[train_index], y[test_index]\n",
        "\n",
        "    # Logistic Regression from Scratch\n",
        "    logreg_scratch = LogisticRegressionScratch(lr=0.01, n_iter=1000)\n",
        "    logreg_scratch.fit(X_train, y_train)\n",
        "    y_pred_scratch = logreg_scratch.predict(X_test)\n",
        "    scratch_accuracies.append(accuracy_score(y_test, y_pred_scratch))\n",
        "\n",
        "    # Logistic Regression using Scikit-learn\n",
        "    logreg_builtin = LogisticRegression(max_iter=1000)\n",
        "    logreg_builtin.fit(X_train, y_train)\n",
        "    y_pred_builtin = logreg_builtin.predict(X_test)\n",
        "    builtin_accuracies.append(accuracy_score(y_test, y_pred_builtin))\n",
        "\n",
        "# Calculate Average Accuracies\n",
        "scratch_avg_accuracy = np.mean(scratch_accuracies)\n",
        "builtin_avg_accuracy = np.mean(builtin_accuracies)\n",
        "\n",
        "# Display Results\n",
        "print(\"Logistic Regression from Scratch - Average Accuracy: {:.4f}\".format(scratch_avg_accuracy))\n",
        "print(\"Scikit-learn Logistic Regression - Average Accuracy: {:.4f}\".format(builtin_avg_accuracy))\n"
      ]
    },
    {
      "cell_type": "code",
      "source": [],
      "metadata": {
        "id": "EJSvQKH30w6C"
      },
      "execution_count": null,
      "outputs": []
    }
  ]
}