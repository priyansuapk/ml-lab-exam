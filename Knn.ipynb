{
  "nbformat": 4,
  "nbformat_minor": 0,
  "metadata": {
    "colab": {
      "provenance": [],
      "authorship_tag": "ABX9TyOz1BdKEbHoG8pMfZF6RLV4",
      "include_colab_link": true
    },
    "kernelspec": {
      "name": "python3",
      "display_name": "Python 3"
    },
    "language_info": {
      "name": "python"
    }
  },
  "cells": [
    {
      "cell_type": "markdown",
      "metadata": {
        "id": "view-in-github",
        "colab_type": "text"
      },
      "source": [
        "<a href=\"https://colab.research.google.com/github/priyansuapk/ml-lab-exam/blob/main/Knn.ipynb\" target=\"_parent\"><img src=\"https://colab.research.google.com/assets/colab-badge.svg\" alt=\"Open In Colab\"/></a>"
      ]
    },
    {
      "cell_type": "code",
      "source": [
        "import numpy as np\n",
        "from sklearn.datasets import load_breast_cancer\n",
        "from sklearn.model_selection import KFold\n",
        "from sklearn.metrics import accuracy_score\n",
        "from sklearn.neighbors import KNeighborsClassifier\n",
        "\n",
        "# Load Breast Cancer dataset\n",
        "data = load_breast_cancer()\n",
        "X, y = data.data, data.target\n",
        "\n",
        "# Implement KNN from scratch\n",
        "class KNNFromScratch:\n",
        "    def __init__(self, k=3):\n",
        "        self.k = k\n",
        "\n",
        "    def fit(self, X, y):\n",
        "        self.X_train = X\n",
        "        self.y_train = y\n",
        "\n",
        "    def predict(self, X):\n",
        "        predictions = [self._predict_single(x) for x in X]\n",
        "        return np.array(predictions)\n",
        "\n",
        "    def _predict_single(self, x):\n",
        "        # Compute distances to all training samples\n",
        "        distances = np.linalg.norm(self.X_train - x, axis=1)\n",
        "        # Get indices of the k-nearest neighbors\n",
        "        k_indices = np.argsort(distances)[:self.k]\n",
        "        # Get the labels of the k-nearest neighbors\n",
        "        k_labels = self.y_train[k_indices]\n",
        "        # Return the most common label\n",
        "        return np.bincount(k_labels).argmax()\n",
        "\n",
        "# Cross-validation setup\n",
        "kf = KFold(n_splits=5, shuffle=True, random_state=42)\n",
        "\n",
        "# Store accuracies\n",
        "knn_scratch_accuracies = []\n",
        "knn_builtin_accuracies = []\n",
        "\n",
        "for train_index, test_index in kf.split(X):\n",
        "    X_train, X_test = X[train_index], X[test_index]\n",
        "    y_train, y_test = y[train_index], y[test_index]\n",
        "\n",
        "    # KNN from scratch\n",
        "    knn_scratch = KNNFromScratch(k=3)\n",
        "    knn_scratch.fit(X_train, y_train)\n",
        "    y_pred_scratch = knn_scratch.predict(X_test)\n",
        "    knn_scratch_accuracies.append(accuracy_score(y_test, y_pred_scratch))\n",
        "\n",
        "    # KNN using scikit-learn\n",
        "    knn_builtin = KNeighborsClassifier(n_neighbors=3)\n",
        "    knn_builtin.fit(X_train, y_train)\n",
        "    y_pred_builtin = knn_builtin.predict(X_test)\n",
        "    knn_builtin_accuracies.append(accuracy_score(y_test, y_pred_builtin))\n",
        "\n",
        "# Calculate average accuracies\n",
        "scratch_avg_accuracy = np.mean(knn_scratch_accuracies)\n",
        "builtin_avg_accuracy = np.mean(knn_builtin_accuracies)\n",
        "\n",
        "print(f\"KNN From Scratch Average Accuracy: {scratch_avg_accuracy * 100:.2f}%\")\n",
        "print(f\"KNN Built-in Average Accuracy: {builtin_avg_accuracy * 100:.2f}%\")\n"
      ],
      "metadata": {
        "colab": {
          "base_uri": "https://localhost:8080/"
        },
        "id": "oP1GQcjmtUkQ",
        "outputId": "4d59ba16-7afb-413f-bc17-aa9b7ad3f1bf"
      },
      "execution_count": 11,
      "outputs": [
        {
          "output_type": "stream",
          "name": "stdout",
          "text": [
            "KNN From Scratch Average Accuracy: 91.91%\n",
            "KNN Built-in Average Accuracy: 91.91%\n"
          ]
        }
      ]
    },
    {
      "cell_type": "code",
      "source": [],
      "metadata": {
        "id": "VsutZu-ktXsf"
      },
      "execution_count": null,
      "outputs": []
    }
  ]
}