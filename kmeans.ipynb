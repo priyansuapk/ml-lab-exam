{
  "nbformat": 4,
  "nbformat_minor": 0,
  "metadata": {
    "colab": {
      "provenance": [],
      "authorship_tag": "ABX9TyOgz8UAXDiAN5Kpm0EKcE3s",
      "include_colab_link": true
    },
    "kernelspec": {
      "name": "python3",
      "display_name": "Python 3"
    },
    "language_info": {
      "name": "python"
    }
  },
  "cells": [
    {
      "cell_type": "markdown",
      "metadata": {
        "id": "view-in-github",
        "colab_type": "text"
      },
      "source": [
        "<a href=\"https://colab.research.google.com/github/priyansuapk/ml-lab-exam/blob/main/kmeans.ipynb\" target=\"_parent\"><img src=\"https://colab.research.google.com/assets/colab-badge.svg\" alt=\"Open In Colab\"/></a>"
      ]
    },
    {
      "cell_type": "code",
      "source": [
        "import numpy as np\n",
        "import matplotlib.pyplot as plt\n",
        "from sklearn.datasets import load_iris\n",
        "\n",
        "# Load the Iris dataset\n",
        "iris = load_iris()\n",
        "X = iris.data\n",
        "y = iris.target\n",
        "\n",
        "# Select two features (e.g., Sepal Length and Sepal Width) and two classes (e.g., Class 0 and 1)\n",
        "X = X[y < 2, :2]  # Selecting classes 0 and 1, and the first two features\n",
        "\n",
        "# K-Means implementation\n",
        "class KMeansScratch:\n",
        "    def __init__(self, n_clusters=2, max_iter=100, tol=1e-4):\n",
        "        self.n_clusters = n_clusters\n",
        "        self.max_iter = max_iter\n",
        "        self.tol = tol\n",
        "\n",
        "    def fit(self, X):\n",
        "        np.random.seed(42)\n",
        "        # Initialize centroids randomly\n",
        "        random_indices = np.random.permutation(X.shape[0])[:self.n_clusters]\n",
        "        self.centroids = X[random_indices]\n",
        "\n",
        "        for _ in range(self.max_iter):\n",
        "            # Assign clusters\n",
        "            self.labels = self._assign_clusters(X)\n",
        "\n",
        "            # Calculate new centroids\n",
        "            new_centroids = self._compute_centroids(X)\n",
        "\n",
        "            # Check for convergence\n",
        "            if np.all(np.abs(new_centroids - self.centroids) < self.tol):\n",
        "                break\n",
        "\n",
        "            self.centroids = new_centroids\n",
        "\n",
        "    def _assign_clusters(self, X):\n",
        "        distances = np.linalg.norm(X[:, np.newaxis] - self.centroids, axis=2)\n",
        "        return np.argmin(distances, axis=1)\n",
        "\n",
        "    def _compute_centroids(self, X):\n",
        "        return np.array([X[self.labels == i].mean(axis=0) for i in range(self.n_clusters)])\n",
        "\n",
        "    def predict(self, X):\n",
        "        return self._assign_clusters(X)\n",
        "\n",
        "# Apply K-Means from scratch\n",
        "kmeans = KMeansScratch(n_clusters=2)\n",
        "kmeans.fit(X)\n",
        "\n",
        "# Plot the results\n",
        "plt.figure(figsize=(8, 6))\n",
        "for i, color in enumerate(['red', 'blue']):\n",
        "    plt.scatter(X[kmeans.labels == i, 0], X[kmeans.labels == i, 1], color=color, label=f\"Cluster {i}\")\n",
        "plt.scatter(kmeans.centroids[:, 0], kmeans.centroids[:, 1], s=200, c='yellow', label=\"Centroids\", marker='X')\n",
        "plt.xlabel(\"Feature 1 (Sepal Length)\")\n",
        "plt.ylabel(\"Feature 2 (Sepal Width)\")\n",
        "plt.title(\"K-Means Clustering (2 Features, 2 Classes)\")\n",
        "plt.legend()\n",
        "plt.grid()\n",
        "plt.show()\n"
      ],
      "metadata": {
        "id": "qLQes7Nk2BkQ"
      },
      "execution_count": null,
      "outputs": []
    }
  ]
}