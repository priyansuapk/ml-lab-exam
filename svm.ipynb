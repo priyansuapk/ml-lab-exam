{
  "nbformat": 4,
  "nbformat_minor": 0,
  "metadata": {
    "colab": {
      "provenance": [],
      "include_colab_link": true
    },
    "kernelspec": {
      "name": "python3",
      "display_name": "Python 3"
    },
    "language_info": {
      "name": "python"
    }
  },
  "cells": [
    {
      "cell_type": "markdown",
      "metadata": {
        "id": "view-in-github",
        "colab_type": "text"
      },
      "source": [
        "<a href=\"https://colab.research.google.com/github/priyansuapk/ml-lab-exam/blob/main/svm.ipynb\" target=\"_parent\"><img src=\"https://colab.research.google.com/assets/colab-badge.svg\" alt=\"Open In Colab\"/></a>"
      ]
    },
    {
      "cell_type": "code",
      "execution_count": null,
      "metadata": {
        "id": "p3gruxQr6YzM"
      },
      "outputs": [],
      "source": [
        "import numpy as np\n",
        "\n",
        "class SVM_Dual_Kernel:\n",
        "    def __init__(self, C=1.0, learning_rate=0.001, n_iters=1000, kernel='linear', degree=3, gamma=0.5):\n",
        "        self.C = C\n",
        "        self.learning_rate = learning_rate\n",
        "        self.n_iters = n_iters\n",
        "        self.kernel = kernel       # Specifies which kernel to use: 'linear', 'rbf', or 'polynomial'\n",
        "        self.degree = degree       # Degree for polynomial kernel\n",
        "        self.gamma = gamma         # Gamma for RBF kernel\n",
        "        self.alpha = None          # Lagrange multipliers\n",
        "        self.w = None              # Weight vector for linear kernel\n",
        "        self.b = None              # Bias term\n",
        "        self.X_train = None        # Training data\n",
        "        self.y_train = None        # Training labels\n",
        "\n",
        "    # Method to compute the kernel matrix based on the selected kernel\n",
        "    def compute_kernel_matrix(self, X, Y=None):\n",
        "        if Y is None:\n",
        "            Y = X  # Use X for both if Y is not provided (e.g., for training)\n",
        "        if self.kernel == 'linear':\n",
        "            return np.dot(X, Y.T)  # Linear kernel: simple dot product\n",
        "        elif self.kernel == 'rbf':\n",
        "            # RBF kernel: exp(-gamma * ||x - y||^2)\n",
        "            sq_dists = np.sum(X**2, axis=1).reshape(-1, 1) + np.sum(Y**2, axis=1) - 2 * np.dot(X, Y.T)\n",
        "            return np.exp(-self.gamma * sq_dists)\n",
        "        elif self.kernel == 'polynomial':\n",
        "            # Polynomial kernel: (x · y + 1) ^ degree\n",
        "            return (np.dot(X, Y.T) + 1) ** self.degree\n",
        "        else:\n",
        "            raise ValueError(\"Unknown kernel type\")\n",
        "\n",
        "    # Fit method to train the SVM model\n",
        "    def fit(self, X, y):\n",
        "        self.X_train = X\n",
        "        self.y_train = y.astype(float)\n",
        "        n_samples, n_features = X.shape\n",
        "        K = self.compute_kernel_matrix(X)  # Compute the kernel matrix for training\n",
        "\n",
        "        # Initialize Lagrange multipliers (alpha) to zero\n",
        "        self.alpha = np.zeros(n_samples)\n",
        "\n",
        "        # Perform gradient ascent on the dual objective function\n",
        "        for _ in range(self.n_iters):\n",
        "            for i in range(n_samples):\n",
        "                gradient = 1 - np.sum(self.alpha * self.y_train * K[:, i])\n",
        "                self.alpha[i] += self.learning_rate * gradient * self.y_train[i]\n",
        "\n",
        "                # Clip alpha values to satisfy constraints: 0 <= alpha_i <= C\n",
        "                self.alpha[i] = min(max(self.alpha[i], 0), self.C)\n",
        "\n",
        "            # Ensure sum(alpha_i * y_i) = 0 by adjusting alpha values if needed\n",
        "            sum_alpha_y = np.sum(self.alpha * self.y_train)\n",
        "            if sum_alpha_y != 0:\n",
        "                adjustment = sum_alpha_y / n_samples\n",
        "                self.alpha -= adjustment * self.y_train\n",
        "\n",
        "        # Compute the bias term (b) using support vectors\n",
        "        support_vectors = self.alpha > 1e-5\n",
        "        self.b = np.mean(self.y_train[support_vectors] - np.dot(K[support_vectors], self.alpha * self.y_train))\n",
        "\n",
        "    # Predict method to classify new samples based on the learned model\n",
        "    def predict(self, X):\n",
        "      K_test = self.compute_kernel_matrix(self.X_train, X)\n",
        "      # Reshape (self.alpha * self.y_train) to (1, -1) for correct matrix multiplication\n",
        "      decision = np.dot(self.alpha * self.y_train, K_test) + self.b\n",
        "      return np.sign(decision).flatten()  # Flatten to return a 1D array of predictions\n",
        "\n",
        "\n",
        "\n",
        "\n",
        "\n",
        "\n"
      ]
    },
    {
      "cell_type": "code",
      "source": [
        "from sklearn.datasets import load_iris, load_breast_cancer\n",
        "from sklearn.model_selection import train_test_split\n",
        "\n",
        "# Load Iris dataset and filter for two classes only (binary classification)\n",
        "iris = load_iris()\n",
        "X_iris, y_iris = iris.data, iris.target\n",
        "# Filter to only include classes 0 and 1\n",
        "iris_filter = y_iris < 2\n",
        "X_iris, y_iris = X_iris[iris_filter], y_iris[iris_filter]\n",
        "X_train1, X_test1, y_train1, y_test1 = train_test_split(X_iris, y_iris, test_size=0.3, random_state=42)\n",
        "\n",
        "# Load Breast Cancer dataset\n",
        "cancer = load_breast_cancer()\n",
        "X_cancer, y_cancer = cancer.data, cancer.target\n",
        "X_train2, X_test2, y_train2, y_test2 = train_test_split(X_cancer, y_cancer, test_size=0.3, random_state=42)\n",
        "\n",
        "# Define datasets dictionary for use in SVM training\n",
        "datasets = {\n",
        "    \"Dataset 1\": (X_train1, X_test1, y_train1, y_test1),\n",
        "    \"Dataset 2\": (X_train2, X_test2, y_train2, y_test2),\n",
        "}\n"
      ],
      "metadata": {
        "id": "5A5IHU366adC"
      },
      "execution_count": null,
      "outputs": []
    },
    {
      "cell_type": "code",
      "source": [
        "# Define the datasets\n",
        "datasets = {\n",
        "    \"Dataset 1\": (X_train1, X_test1, y_train1, y_test1),\n",
        "    \"Dataset 2\": (X_train2, X_test2, y_train2, y_test2),\n",
        "}\n",
        "\n",
        "# Define kernels to use\n",
        "kernels = ['linear', 'rbf', 'polynomial']\n",
        "\n",
        "# Initialize an empty dictionary to store results by dataset\n",
        "results = {dataset_name: {} for dataset_name in datasets.keys()}\n",
        "\n",
        "# Function to calculate accuracy\n",
        "def accuracy(y_true, y_pred):\n",
        "    return np.mean(y_true == y_pred)\n",
        "\n",
        "# Training and evaluation loop\n",
        "for dataset_name, (X_train, X_test, y_train, y_test) in datasets.items():\n",
        "    for kernel in kernels:\n",
        "        # Initialize the SVM with the current kernel\n",
        "        clf = SVM_Dual_Kernel(kernel=kernel, n_iters=1000, gamma=0.5, degree=3)\n",
        "        clf.fit(X_train, y_train)  # Train the model\n",
        "\n",
        "        # Make predictions and calculate accuracy\n",
        "        predictions = clf.predict(X_test)\n",
        "        acc = accuracy(y_test, predictions)\n",
        "\n",
        "        # Store result in a structured format\n",
        "        results[dataset_name][kernel] = acc\n",
        "\n",
        "# Print the results in the requested format\n",
        "print(\"Results Summary:\")\n",
        "for dataset_name, kernel_accuracies in results.items():\n",
        "    for kernel, acc in kernel_accuracies.items():\n",
        "        print(f\"{dataset_name} with {kernel.capitalize()} Kernel Accuracy: {acc:.2f}\")\n"
      ],
      "metadata": {
        "colab": {
          "base_uri": "https://localhost:8080/"
        },
        "id": "8xfX3MDR7DPq",
        "outputId": "0d072417-e674-46a2-f57e-b6e210f08a08"
      },
      "execution_count": null,
      "outputs": [
        {
          "output_type": "stream",
          "name": "stdout",
          "text": [
            "Results Summary:\n",
            "Dataset 1 with Linear Kernel Accuracy: 0.43\n",
            "Dataset 1 with Rbf Kernel Accuracy: 0.43\n",
            "Dataset 1 with Polynomial Kernel Accuracy: 0.30\n",
            "Dataset 2 with Linear Kernel Accuracy: 0.11\n",
            "Dataset 2 with Rbf Kernel Accuracy: 0.63\n",
            "Dataset 2 with Polynomial Kernel Accuracy: 0.15\n"
          ]
        }
      ]
    },
    {
      "cell_type": "code",
      "source": [],
      "metadata": {
        "id": "F6DVSdOT8CEZ"
      },
      "execution_count": null,
      "outputs": []
    }
  ]
}