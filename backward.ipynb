{
  "nbformat": 4,
  "nbformat_minor": 0,
  "metadata": {
    "colab": {
      "provenance": [],
      "include_colab_link": true
    },
    "kernelspec": {
      "name": "python3",
      "display_name": "Python 3"
    },
    "language_info": {
      "name": "python"
    }
  },
  "cells": [
    {
      "cell_type": "markdown",
      "metadata": {
        "id": "view-in-github",
        "colab_type": "text"
      },
      "source": [
        "<a href=\"https://colab.research.google.com/github/priyansuapk/ml-lab-exam/blob/main/backward.ipynb\" target=\"_parent\"><img src=\"https://colab.research.google.com/assets/colab-badge.svg\" alt=\"Open In Colab\"/></a>"
      ]
    },
    {
      "cell_type": "code",
      "source": [
        "import numpy as np\n",
        "import pandas as pd\n",
        "from sklearn.datasets import load_iris\n",
        "from sklearn.linear_model import LogisticRegression\n",
        "from sklearn.model_selection import train_test_split\n",
        "from sklearn.metrics import f1_score\n",
        "\n",
        "# Load the Iris dataset\n",
        "iris = load_iris()\n",
        "X = iris.data\n",
        "y = iris.target\n",
        "\n",
        "# Convert to DataFrame for easier manipulation\n",
        "df = pd.DataFrame(X, columns=iris.feature_names)\n",
        "df['target'] = y\n",
        "\n",
        "# Function to perform Backward Elimination\n",
        "def backward_elimination(X, y, model, metric_func):\n",
        "    features = X.columns\n",
        "    best_f1_score = 0\n",
        "    best_features = features.tolist()\n",
        "\n",
        "    # Start with all features\n",
        "    while len(features) > 2:\n",
        "        f1_scores = []\n",
        "\n",
        "        # Test the model performance by removing one feature at a time\n",
        "        for feature in features:\n",
        "            X_temp = X.drop(columns=[feature])\n",
        "            X_train, X_test, y_train, y_test = train_test_split(X_temp, y, test_size=0.3, random_state=42)\n",
        "\n",
        "            # Train the model\n",
        "            model.fit(X_train, y_train)\n",
        "            y_pred = model.predict(X_test)\n",
        "\n",
        "            # Calculate F1 score\n",
        "            score = metric_func(y_test, y_pred, average='weighted')\n",
        "            f1_scores.append((feature, score))\n",
        "\n",
        "        # Sort by F1 score and select the feature with the lowest score\n",
        "        f1_scores.sort(key=lambda x: x[1])  # Sort by F1 score\n",
        "        worst_feature, worst_score = f1_scores[0]\n",
        "\n",
        "        # Remove the worst feature\n",
        "        features = features.drop(worst_feature)\n",
        "\n",
        "        # Update the best F1 score and best feature set\n",
        "        if worst_score > best_f1_score:\n",
        "            best_f1_score = worst_score\n",
        "            best_features = features.tolist()\n",
        "\n",
        "    return best_features, best_f1_score\n",
        "\n",
        "# Initialize model and F1 score metric\n",
        "model = LogisticRegression(max_iter=200)\n",
        "metric_func = f1_score\n",
        "\n",
        "# Perform Backward Elimination to find the optimal 2 features\n",
        "best_features, best_f1_score = backward_elimination(df.drop(columns='target'), y, model, metric_func)\n",
        "\n",
        "# Output the best features and their F1 score\n",
        "print(\"Best 2 Features:\", best_features)\n",
        "print(\"Best F1 Score:\", best_f1_score)\n"
      ],
      "metadata": {
        "colab": {
          "base_uri": "https://localhost:8080/"
        },
        "id": "q8vfyQXc6c0-",
        "outputId": "c43146ef-ef2a-4586-f941-f89f74ca266b"
      },
      "execution_count": 8,
      "outputs": [
        {
          "output_type": "stream",
          "name": "stdout",
          "text": [
            "Best 2 Features: ['sepal width (cm)', 'petal width (cm)']\n",
            "Best F1 Score: 1.0\n"
          ]
        }
      ]
    },
    {
      "cell_type": "code",
      "source": [],
      "metadata": {
        "id": "W-hwMYDx6so6"
      },
      "execution_count": null,
      "outputs": []
    }
  ]
}